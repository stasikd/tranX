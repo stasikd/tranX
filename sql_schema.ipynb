{
 "cells": [
  {
   "cell_type": "code",
   "execution_count": 1,
   "id": "fced376c-1477-4a82-a4f2-c722721f2fcf",
   "metadata": {},
   "outputs": [],
   "source": [
    "import json\n",
    "import sqlite3\n",
    "from nltk import word_tokenize"
   ]
  },
  {
   "cell_type": "code",
   "execution_count": 2,
   "id": "75510535-8e89-4bf7-af76-4fcbdb8aeb89",
   "metadata": {},
   "outputs": [],
   "source": [
    "db_path = 'my_wikisql/train.db'"
   ]
  },
  {
   "cell_type": "markdown",
   "id": "40807bee-078d-4d12-9a4c-91d1a0920f5e",
   "metadata": {},
   "source": [
    "### Get schema"
   ]
  },
  {
   "cell_type": "code",
   "execution_count": 3,
   "id": "75bb3ae4-cfc1-4e1c-9f28-f52b8347e1b8",
   "metadata": {},
   "outputs": [],
   "source": [
    "schema = {}\n",
    "conn = sqlite3.connect(db_path)\n",
    "cursor = conn.cursor()"
   ]
  },
  {
   "cell_type": "code",
   "execution_count": 4,
   "id": "d196f95a-c774-4e64-ba61-fe8fb300a85c",
   "metadata": {},
   "outputs": [
    {
     "data": {
      "text/plain": [
       "<sqlite3.Cursor at 0x16173808490>"
      ]
     },
     "execution_count": 4,
     "metadata": {},
     "output_type": "execute_result"
    }
   ],
   "source": [
    "cursor.execute(\"SELECT name FROM sqlite_master WHERE type='table';\")"
   ]
  },
  {
   "cell_type": "code",
   "execution_count": 5,
   "id": "43aad965-a05b-4764-b840-46ee08220cfd",
   "metadata": {},
   "outputs": [],
   "source": [
    "tables = [str(table[0].lower()) for table in cursor.fetchall()]"
   ]
  },
  {
   "cell_type": "code",
   "execution_count": 6,
   "id": "e7ff4c15-37b1-432a-be0c-ae1349e05ec7",
   "metadata": {},
   "outputs": [
    {
     "data": {
      "text/plain": [
       "'table_1_1000181_1'"
      ]
     },
     "execution_count": 6,
     "metadata": {},
     "output_type": "execute_result"
    }
   ],
   "source": [
    "tables[0]"
   ]
  },
  {
   "cell_type": "code",
   "execution_count": 7,
   "id": "27aef9c9-bf50-46a0-8ade-b521c4bac2b6",
   "metadata": {},
   "outputs": [],
   "source": [
    "for table in tables:\n",
    "    cursor.execute(\"PRAGMA table_info({})\".format(table))\n",
    "    schema[table] = [str(col[1].lower()) for col in cursor.fetchall()]"
   ]
  },
  {
   "cell_type": "code",
   "execution_count": 8,
   "id": "a59e9f94-9b61-4b92-99cd-15077c1f933d",
   "metadata": {},
   "outputs": [
    {
     "data": {
      "text/plain": [
       "['col0', 'col1', 'col2', 'col3', 'col4', 'col5']"
      ]
     },
     "execution_count": 8,
     "metadata": {},
     "output_type": "execute_result"
    }
   ],
   "source": [
    "schema[tables[3]]"
   ]
  },
  {
   "cell_type": "markdown",
   "id": "5884b1aa-3634-4f62-9116-8a67c287c189",
   "metadata": {},
   "source": [
    "##### получил схему -- словарь, в котором ключ - название таблицы, значение - список колонок"
   ]
  },
  {
   "cell_type": "code",
   "execution_count": null,
   "id": "7eac227b-0d57-4f3c-8cac-c545e2126d8f",
   "metadata": {},
   "outputs": [],
   "source": []
  },
  {
   "cell_type": "code",
   "execution_count": null,
   "id": "59311526-94c9-49e9-9589-95a3077d6bc1",
   "metadata": {},
   "outputs": [],
   "source": []
  }
 ],
 "metadata": {
  "kernelspec": {
   "display_name": "Python 3 (ipykernel)",
   "language": "python",
   "name": "python3"
  },
  "language_info": {
   "codemirror_mode": {
    "name": "ipython",
    "version": 3
   },
   "file_extension": ".py",
   "mimetype": "text/x-python",
   "name": "python",
   "nbconvert_exporter": "python",
   "pygments_lexer": "ipython3",
   "version": "3.9.13"
  }
 },
 "nbformat": 4,
 "nbformat_minor": 5
}
