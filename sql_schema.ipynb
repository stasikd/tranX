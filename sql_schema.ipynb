{
 "cells": [
  {
   "cell_type": "code",
   "execution_count": 8,
   "id": "fced376c-1477-4a82-a4f2-c722721f2fcf",
   "metadata": {},
   "outputs": [],
   "source": [
    "import json\n",
    "import sqlite3\n",
    "from nltk import word_tokenize"
   ]
  },
  {
   "cell_type": "code",
   "execution_count": 9,
   "id": "75510535-8e89-4bf7-af76-4fcbdb8aeb89",
   "metadata": {},
   "outputs": [],
   "source": [
    "db_path = 'my_wikisql/train.db'"
   ]
  },
  {
   "cell_type": "markdown",
   "id": "40807bee-078d-4d12-9a4c-91d1a0920f5e",
   "metadata": {},
   "source": [
    "### Get schema"
   ]
  },
  {
   "cell_type": "code",
   "execution_count": 12,
   "id": "75bb3ae4-cfc1-4e1c-9f28-f52b8347e1b8",
   "metadata": {},
   "outputs": [],
   "source": [
    "schema = {}\n",
    "conn = sqlite3.connect(db_path)\n",
    "cursor = conn.cursor()"
   ]
  },
  {
   "cell_type": "code",
   "execution_count": 13,
   "id": "d196f95a-c774-4e64-ba61-fe8fb300a85c",
   "metadata": {},
   "outputs": [
    {
     "data": {
      "text/plain": [
       "<sqlite3.Cursor at 0x2a6991cd420>"
      ]
     },
     "execution_count": 13,
     "metadata": {},
     "output_type": "execute_result"
    }
   ],
   "source": [
    "cursor.execute(\"SELECT name FROM sqlite_master WHERE type='table';\")"
   ]
  },
  {
   "cell_type": "code",
   "execution_count": 14,
   "id": "43aad965-a05b-4764-b840-46ee08220cfd",
   "metadata": {},
   "outputs": [],
   "source": [
    "tables = [str(table[0].lower()) for table in cursor.fetchall()]"
   ]
  },
  {
   "cell_type": "code",
   "execution_count": 17,
   "id": "e7ff4c15-37b1-432a-be0c-ae1349e05ec7",
   "metadata": {},
   "outputs": [
    {
     "data": {
      "text/plain": [
       "'table_1_1000181_1'"
      ]
     },
     "execution_count": 17,
     "metadata": {},
     "output_type": "execute_result"
    }
   ],
   "source": [
    "tables[0]"
   ]
  },
  {
   "cell_type": "code",
   "execution_count": 16,
   "id": "27aef9c9-bf50-46a0-8ade-b521c4bac2b6",
   "metadata": {},
   "outputs": [],
   "source": [
    "for table in tables:\n",
    "    cursor.execute(\"PRAGMA table_info({})\".format(table))\n",
    "    schema[table] = [str(col[1].lower()) for col in cursor.fetchall()]"
   ]
  },
  {
   "cell_type": "code",
   "execution_count": 21,
   "id": "a59e9f94-9b61-4b92-99cd-15077c1f933d",
   "metadata": {},
   "outputs": [
    {
     "data": {
      "text/plain": [
       "['col0', 'col1', 'col2', 'col3', 'col4', 'col5']"
      ]
     },
     "execution_count": 21,
     "metadata": {},
     "output_type": "execute_result"
    }
   ],
   "source": [
    "schema[tables[3]]"
   ]
  },
  {
   "cell_type": "markdown",
   "id": "5884b1aa-3634-4f62-9116-8a67c287c189",
   "metadata": {},
   "source": [
    "##### получил схему -- словарь, в котором ключ - название таблицы, значение - список колонок"
   ]
  },
  {
   "cell_type": "code",
   "execution_count": 25,
   "id": "f9d48149-ae13-4b32-827e-a2dd7b4158d8",
   "metadata": {},
   "outputs": [],
   "source": [
    "fpath = 'my_wikisql/wikisql_train.json'"
   ]
  },
  {
   "cell_type": "code",
   "execution_count": 27,
   "id": "e9e4fd26-cb32-45e7-bd2a-24ef6d8595e6",
   "metadata": {},
   "outputs": [],
   "source": [
    "import json"
   ]
  },
  {
   "cell_type": "code",
   "execution_count": 28,
   "id": "a50c74b9-3755-4859-8eda-348135619f3a",
   "metadata": {},
   "outputs": [],
   "source": [
    "with open(fpath) as f:\n",
    "    data = json.load(f)"
   ]
  },
  {
   "cell_type": "code",
   "execution_count": 30,
   "id": "94a2928e-227b-4416-8cb9-10ca25ebf75e",
   "metadata": {},
   "outputs": [
    {
     "ename": "KeyError",
     "evalue": "'table'",
     "output_type": "error",
     "traceback": [
      "\u001b[1;31m---------------------------------------------------------------------------\u001b[0m",
      "\u001b[1;31mKeyError\u001b[0m                                  Traceback (most recent call last)",
      "\u001b[1;32m~\\AppData\\Local\\Temp\\ipykernel_10584\\2322639144.py\u001b[0m in \u001b[0;36m<module>\u001b[1;34m\u001b[0m\n\u001b[0;32m      1\u001b[0m \u001b[0mschema\u001b[0m \u001b[1;33m=\u001b[0m \u001b[1;33m{\u001b[0m\u001b[1;33m}\u001b[0m\u001b[1;33m\u001b[0m\u001b[1;33m\u001b[0m\u001b[0m\n\u001b[0;32m      2\u001b[0m \u001b[1;32mfor\u001b[0m \u001b[0mentry\u001b[0m \u001b[1;32min\u001b[0m \u001b[0mdata\u001b[0m\u001b[1;33m:\u001b[0m\u001b[1;33m\u001b[0m\u001b[1;33m\u001b[0m\u001b[0m\n\u001b[1;32m----> 3\u001b[1;33m     \u001b[0mtable\u001b[0m \u001b[1;33m=\u001b[0m \u001b[0mstr\u001b[0m\u001b[1;33m(\u001b[0m\u001b[0mentry\u001b[0m\u001b[1;33m[\u001b[0m\u001b[1;34m'table'\u001b[0m\u001b[1;33m]\u001b[0m\u001b[1;33m.\u001b[0m\u001b[0mlower\u001b[0m\u001b[1;33m(\u001b[0m\u001b[1;33m)\u001b[0m\u001b[1;33m)\u001b[0m\u001b[1;33m\u001b[0m\u001b[1;33m\u001b[0m\u001b[0m\n\u001b[0m\u001b[0;32m      4\u001b[0m     \u001b[0mcols\u001b[0m \u001b[1;33m=\u001b[0m \u001b[1;33m[\u001b[0m\u001b[0mstr\u001b[0m\u001b[1;33m(\u001b[0m\u001b[0mcol\u001b[0m\u001b[1;33m[\u001b[0m\u001b[1;34m'column_name'\u001b[0m\u001b[1;33m]\u001b[0m\u001b[1;33m.\u001b[0m\u001b[0mlower\u001b[0m\u001b[1;33m(\u001b[0m\u001b[1;33m)\u001b[0m\u001b[1;33m)\u001b[0m \u001b[1;32mfor\u001b[0m \u001b[0mcol\u001b[0m \u001b[1;32min\u001b[0m \u001b[0mentry\u001b[0m\u001b[1;33m[\u001b[0m\u001b[1;34m'col_data'\u001b[0m\u001b[1;33m]\u001b[0m\u001b[1;33m]\u001b[0m\u001b[1;33m\u001b[0m\u001b[1;33m\u001b[0m\u001b[0m\n\u001b[0;32m      5\u001b[0m     \u001b[0mschema\u001b[0m\u001b[1;33m[\u001b[0m\u001b[0mtable\u001b[0m\u001b[1;33m]\u001b[0m \u001b[1;33m=\u001b[0m \u001b[0mcols\u001b[0m\u001b[1;33m\u001b[0m\u001b[1;33m\u001b[0m\u001b[0m\n",
      "\u001b[1;31mKeyError\u001b[0m: 'table'"
     ]
    }
   ],
   "source": [
    "schema = {}\n",
    "for entry in data:\n",
    "    table = str(entry['table'].lower())\n",
    "    cols = [str(col['column_name'].lower()) for col in entry['col_data']]\n",
    "    schema[table] = cols"
   ]
  },
  {
   "cell_type": "code",
   "execution_count": 23,
   "id": "e1612e5a-0ba6-4c64-9836-0960148615be",
   "metadata": {},
   "outputs": [],
   "source": [
    "def get_schema_from_json(fpath):\n",
    "    with open(fpath) as f:\n",
    "        data = json.load(f)\n",
    "\n",
    "    schema = {}\n",
    "    for entry in data:\n",
    "        table = str(entry['table'].lower())\n",
    "        cols = [str(col['column_name'].lower()) for col in entry['col_data']]\n",
    "        schema[table] = cols\n",
    "\n",
    "    return schema"
   ]
  },
  {
   "cell_type": "code",
   "execution_count": null,
   "id": "7eac227b-0d57-4f3c-8cac-c545e2126d8f",
   "metadata": {},
   "outputs": [],
   "source": []
  }
 ],
 "metadata": {
  "kernelspec": {
   "display_name": "Python 3 (ipykernel)",
   "language": "python",
   "name": "python3"
  },
  "language_info": {
   "codemirror_mode": {
    "name": "ipython",
    "version": 3
   },
   "file_extension": ".py",
   "mimetype": "text/x-python",
   "name": "python",
   "nbconvert_exporter": "python",
   "pygments_lexer": "ipython3",
   "version": "3.9.13"
  }
 },
 "nbformat": 4,
 "nbformat_minor": 5
}
