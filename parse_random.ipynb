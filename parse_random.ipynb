{
 "cells": [
  {
   "cell_type": "code",
   "execution_count": 1,
   "id": "f8bac06f-7286-4228-aa5c-ea1e81daf081",
   "metadata": {},
   "outputs": [],
   "source": [
    "import json\n",
    "import sqlite3\n",
    "from nltk import word_tokenize"
   ]
  },
  {
   "cell_type": "code",
   "execution_count": 2,
   "id": "b7835663-bd69-4aca-85c5-80efc3197846",
   "metadata": {},
   "outputs": [],
   "source": [
    "from more_itertools import split_after, split_at"
   ]
  },
  {
   "cell_type": "code",
   "execution_count": 3,
   "id": "f6c9f547-b03c-4209-a692-0aa89d2ca3c6",
   "metadata": {},
   "outputs": [
    {
     "name": "stderr",
     "output_type": "stream",
     "text": [
      "[nltk_data] Downloading package punkt to\n",
      "[nltk_data]     C:\\Users\\demid\\AppData\\Roaming\\nltk_data...\n",
      "[nltk_data]   Package punkt is already up-to-date!\n"
     ]
    },
    {
     "data": {
      "text/plain": [
       "True"
      ]
     },
     "execution_count": 3,
     "metadata": {},
     "output_type": "execute_result"
    }
   ],
   "source": [
    "import nltk\n",
    "nltk.download('punkt')"
   ]
  },
  {
   "cell_type": "code",
   "execution_count": 4,
   "id": "d748179f-cb40-4fb4-bf4f-68640adea7a7",
   "metadata": {},
   "outputs": [],
   "source": [
    "CLAUSE_KEYWORDS = ('select', 'from', 'where', 'group', 'order', 'limit', 'intersect', 'union', 'except')\n",
    "JOIN_KEYWORDS = ('join', 'on', 'as')\n",
    "\n",
    "# WHERE_OPS = ('not', 'between', '=', '>', '<', '>=', '<=', '!=', 'in', 'like', 'is', 'exists')\n",
    "\n",
    "# delete \"in\" \n",
    "WHERE_OPS = ('not', 'between', '=', '>', '<', '>=', '<=', '!=', 'like', 'is', 'exists')\n",
    "\n",
    "UNIT_OPS = ('none', '-', '+', \"*\", '/')\n",
    "AGG_OPS = ('none', 'max', 'min', 'count', 'sum', 'avg')\n",
    "TABLE_TYPE = {\n",
    "    'sql': \"sql\",\n",
    "    'table_unit': \"table_unit\",\n",
    "}\n",
    "\n",
    "COND_OPS = ('and', 'or')\n",
    "SQL_OPS = ('intersect', 'union', 'except')\n",
    "ORDER_OPS = ('desc', 'asc')"
   ]
  },
  {
   "cell_type": "code",
   "execution_count": 5,
   "id": "bcb45588-9212-4cc0-b957-c55d427d3522",
   "metadata": {},
   "outputs": [],
   "source": [
    "cmp_op_idx2op_symbol = {0: '=', 1: '>', 2: '<'}\n",
    "ctr_symbol2cmp_op_idx = {v: k for k, v in cmp_op_idx2op_symbol.items()}\n",
    "\n",
    "agg_idx2op_name = {1: 'max', 2: 'min', 3: 'count', 4: 'sum', 5: 'avg'}\n",
    "ctr_name2agg_idx = {v: k for k, v in agg_idx2op_name.items()}"
   ]
  },
  {
   "cell_type": "code",
   "execution_count": 6,
   "id": "f49c3741-b954-4080-b526-3836efbc8ea1",
   "metadata": {},
   "outputs": [],
   "source": [
    "# подавать список токенов условий \n",
    "\n",
    "def parse_condition(conditions):\n",
    "    for tok in conditions:        \n",
    "        if tok in WHERE_OPS:\n",
    "            agg_tok_idx = conditions.index(tok)\n",
    "            agg_tok = tok\n",
    "            cond_col = conditions[:agg_tok_idx][0]\n",
    "            rest_cond = ' '.join(conditions[conditions.index(agg_tok)+1:])\n",
    "    return [cond_col, ctr_symbol2cmp_op_idx[agg_tok], rest_cond]\n",
    "# agg_tok, agg_tok_idx, cond_col"
   ]
  },
  {
   "cell_type": "code",
   "execution_count": 7,
   "id": "385ee929-44f8-4ab3-a279-13d6677455d8",
   "metadata": {},
   "outputs": [],
   "source": [
    "from process_sql import tokenize"
   ]
  },
  {
   "cell_type": "code",
   "execution_count": 8,
   "id": "a6883a0b-bf71-4861-9ae8-24f0e7a86bfe",
   "metadata": {},
   "outputs": [],
   "source": [
    "my_query = 'SELECT COUNT column_name FROM table WHERE random_col = New series began in June 2011 AND col_col > Vse HOROsho'"
   ]
  },
  {
   "cell_type": "code",
   "execution_count": 9,
   "id": "de948f6c-5c2e-4ab8-8460-f4f819ede379",
   "metadata": {},
   "outputs": [
    {
     "data": {
      "text/plain": [
       "['select',\n",
       " 'count',\n",
       " 'column_name',\n",
       " 'from',\n",
       " 'table',\n",
       " 'where',\n",
       " 'random_col',\n",
       " '=',\n",
       " 'new',\n",
       " 'series',\n",
       " 'began',\n",
       " 'in',\n",
       " 'june',\n",
       " '2011',\n",
       " 'and',\n",
       " 'col_col',\n",
       " '>',\n",
       " 'vse',\n",
       " 'horosho']"
      ]
     },
     "execution_count": 9,
     "metadata": {},
     "output_type": "execute_result"
    }
   ],
   "source": [
    "toks = tokenize(my_query)\n",
    "toks"
   ]
  },
  {
   "cell_type": "markdown",
   "id": "59b86cb5-e3bd-41bc-91ba-fa55c82ab370",
   "metadata": {},
   "source": [
    "1. Нашли аггрегатор и колонку для select"
   ]
  },
  {
   "cell_type": "code",
   "execution_count": 10,
   "id": "66e6f766-eed1-4bb3-ad91-861bcdda2e2c",
   "metadata": {},
   "outputs": [],
   "source": [
    "col_to_select_with_agg = toks[1:toks.index('from')]\n",
    "col_to_select_agg_op, col_to_select = col_to_select_with_agg[0], col_to_select_with_agg[1]"
   ]
  },
  {
   "cell_type": "markdown",
   "id": "0b05a69e-6c17-4f37-b73b-12a15da3a7f8",
   "metadata": {},
   "source": [
    "2. Нашли блок с условиями"
   ]
  },
  {
   "cell_type": "code",
   "execution_count": 11,
   "id": "a0feda93-6d67-4135-91f5-034bb316f2d3",
   "metadata": {},
   "outputs": [
    {
     "data": {
      "text/plain": [
       "['random_col',\n",
       " '=',\n",
       " 'new',\n",
       " 'series',\n",
       " 'began',\n",
       " 'in',\n",
       " 'june',\n",
       " '2011',\n",
       " 'and',\n",
       " 'col_col',\n",
       " '>',\n",
       " 'vse',\n",
       " 'horosho']"
      ]
     },
     "execution_count": 11,
     "metadata": {},
     "output_type": "execute_result"
    }
   ],
   "source": [
    "conditions = toks[toks.index('where')+1:]\n",
    "conditions"
   ]
  },
  {
   "cell_type": "markdown",
   "id": "54ae8851-fcba-4daa-945e-865c0c00bccf",
   "metadata": {},
   "source": [
    "3. Разделели условия"
   ]
  },
  {
   "cell_type": "code",
   "execution_count": 12,
   "id": "047e401c-8dca-4c08-be62-3376585ccdc6",
   "metadata": {},
   "outputs": [],
   "source": [
    "с_1 = list(split_at(conditions, lambda x: x in COND_OPS))[0]\n",
    "с_2 = list(split_at(conditions, lambda x: x in COND_OPS))[1]"
   ]
  },
  {
   "cell_type": "markdown",
   "id": "d5d04c24-8765-45fc-a70c-11ef6839e6bd",
   "metadata": {},
   "source": [
    "4. Распарсили условия"
   ]
  },
  {
   "cell_type": "code",
   "execution_count": 13,
   "id": "acfd9e0b-073e-4672-b5f5-f5e9e3b87b2d",
   "metadata": {},
   "outputs": [
    {
     "data": {
      "text/plain": [
       "[['random_col', 0, 'new series began in june 2011'],\n",
       " ['col_col', 1, 'vse horosho']]"
      ]
     },
     "execution_count": 13,
     "metadata": {},
     "output_type": "execute_result"
    }
   ],
   "source": [
    "cond_list = []\n",
    "for c in list(split_at(conditions, lambda x: x in COND_OPS)):\n",
    "    cond_list.append(parse_condition(c))\n",
    "    \n",
    "cond_list"
   ]
  },
  {
   "cell_type": "markdown",
   "id": "104e67ff-1923-4700-8bee-47ea0a0a10ed",
   "metadata": {},
   "source": [
    "5. Сделали итоговый словарь \n",
    "\n",
    "Нужны: колонка для select, ее аггрегационная операция, условия"
   ]
  },
  {
   "cell_type": "code",
   "execution_count": 14,
   "id": "c848a07b-399f-4b54-b316-c6800697f18a",
   "metadata": {},
   "outputs": [],
   "source": [
    "final_dict = dict()\n",
    "\n",
    "final_dict['sel'] = col_to_select\n",
    "final_dict['agg'] = ctr_name2agg_idx[col_to_select_agg_op]\n",
    "final_dict['conds'] = cond_list"
   ]
  },
  {
   "cell_type": "code",
   "execution_count": 15,
   "id": "21d30111-302c-4315-ac9a-4ea10b6713c9",
   "metadata": {},
   "outputs": [
    {
     "data": {
      "text/plain": [
       "{'sel': 'column_name',\n",
       " 'agg': 3,\n",
       " 'conds': [['random_col', 0, 'new series began in june 2011'],\n",
       "  ['col_col', 1, 'vse horosho']]}"
      ]
     },
     "execution_count": 15,
     "metadata": {},
     "output_type": "execute_result"
    }
   ],
   "source": [
    "final_dict"
   ]
  },
  {
   "cell_type": "markdown",
   "id": "2b6ddf86-29a2-44ce-9413-04b07d7c7198",
   "metadata": {
    "tags": []
   },
   "source": [
    "1. sel: название колонки, потом сделать маппинг в int\n",
    "\n",
    "2. agg: аггрегация колонки для select, потом использовать маппинг\n",
    "\n",
    "3. conds: [id колоники, маппинг операции, условие (строка)]"
   ]
  },
  {
   "cell_type": "code",
   "execution_count": null,
   "id": "38fb5da4-bb38-418c-9a78-86e99c064de0",
   "metadata": {},
   "outputs": [],
   "source": []
  },
  {
   "cell_type": "code",
   "execution_count": null,
   "id": "49254afd-04c2-4d1e-a437-6cd93efc87c7",
   "metadata": {},
   "outputs": [],
   "source": []
  }
 ],
 "metadata": {
  "kernelspec": {
   "display_name": "Python 3 (ipykernel)",
   "language": "python",
   "name": "python3"
  },
  "language_info": {
   "codemirror_mode": {
    "name": "ipython",
    "version": 3
   },
   "file_extension": ".py",
   "mimetype": "text/x-python",
   "name": "python",
   "nbconvert_exporter": "python",
   "pygments_lexer": "ipython3",
   "version": "3.9.13"
  }
 },
 "nbformat": 4,
 "nbformat_minor": 5
}
