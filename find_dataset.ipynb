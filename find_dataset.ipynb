{
 "cells": [
  {
   "cell_type": "code",
   "execution_count": 1,
   "id": "382cfbb7-1a01-4ea1-8ba3-51376456c780",
   "metadata": {},
   "outputs": [],
   "source": [
    "import json"
   ]
  },
  {
   "cell_type": "code",
   "execution_count": 21,
   "id": "a368318b-6474-49d3-9859-99d15a122991",
   "metadata": {},
   "outputs": [],
   "source": [
    "data_table_path = 'data/train.tables.jsonl'"
   ]
  },
  {
   "cell_type": "code",
   "execution_count": 15,
   "id": "41f370e6-98ba-4556-a854-a5a7425abd6f",
   "metadata": {},
   "outputs": [],
   "source": [
    "data_path = 'data/train.jsonl'"
   ]
  },
  {
   "cell_type": "code",
   "execution_count": 16,
   "id": "af0e5132-2de2-4954-bc9e-ef315045c74d",
   "metadata": {},
   "outputs": [],
   "source": [
    "with open(data_path, 'r') as json_file:\n",
    "    json_list = list(json_file)"
   ]
  },
  {
   "cell_type": "code",
   "execution_count": 17,
   "id": "bb44ccd7-c18c-4f2a-acc7-e84c820842f9",
   "metadata": {},
   "outputs": [
    {
     "data": {
      "text/plain": [
       "'{\"phase\": 1, \"table_id\": \"1-1000181-1\", \"question\": \"Tell me what the notes are for South Australia \", \"sql\": {\"sel\": 5, \"conds\": [[3, 0, \"SOUTH AUSTRALIA\"]], \"agg\": 0}}\\n'"
      ]
     },
     "execution_count": 17,
     "metadata": {},
     "output_type": "execute_result"
    }
   ],
   "source": [
    "json_list[0]"
   ]
  },
  {
   "cell_type": "code",
   "execution_count": 18,
   "id": "008d53e8-845a-434a-a57c-1a86fa01dcf7",
   "metadata": {},
   "outputs": [],
   "source": [
    "import pandas as pd    \n",
    "jsonObj = pd.read_json(path_or_buf=data_path, lines=True)"
   ]
  },
  {
   "cell_type": "code",
   "execution_count": 20,
   "id": "3a462a95-d6b1-4619-bea1-9cb0f37017d7",
   "metadata": {},
   "outputs": [
    {
     "data": {
      "text/plain": [
       "phase                                                       1\n",
       "table_id                                          1-1000181-1\n",
       "question      Tell me what the notes are for South Australia \n",
       "sql         {'sel': 5, 'conds': [[3, 0, 'SOUTH AUSTRALIA']...\n",
       "Name: 0, dtype: object"
      ]
     },
     "execution_count": 20,
     "metadata": {},
     "output_type": "execute_result"
    }
   ],
   "source": [
    "jsonObj.loc[0]"
   ]
  },
  {
   "cell_type": "code",
   "execution_count": 32,
   "id": "884e744a-9e0e-47cd-bd5d-d92a5bbcee9d",
   "metadata": {},
   "outputs": [
    {
     "data": {
      "text/plain": [
       "'All players are position mark polak.'"
      ]
     },
     "execution_count": 32,
     "metadata": {},
     "output_type": "execute_result"
    }
   ],
   "source": [
    "jsonObj['question'][110]"
   ]
  },
  {
   "cell_type": "code",
   "execution_count": 33,
   "id": "53bb3ef4-17d2-44be-b84a-501cf0ca3c9e",
   "metadata": {},
   "outputs": [
    {
     "data": {
      "text/plain": [
       "{'sel': 2, 'conds': [[1, 0, 'Mark Polak']], 'agg': 0}"
      ]
     },
     "execution_count": 33,
     "metadata": {},
     "output_type": "execute_result"
    }
   ],
   "source": [
    "jsonObj['sql'][110]"
   ]
  },
  {
   "cell_type": "code",
   "execution_count": 22,
   "id": "28024aef-432f-48c0-a0a2-c880e627deed",
   "metadata": {},
   "outputs": [],
   "source": [
    "import pandas as pd    \n",
    "tablesobj = pd.read_json(path_or_buf=data_table_path, lines=True)"
   ]
  },
  {
   "cell_type": "code",
   "execution_count": 27,
   "id": "934c5d9c-bc07-4401-8ee2-f25e77f08754",
   "metadata": {
    "scrolled": true,
    "tags": []
   },
   "outputs": [
    {
     "data": {
      "text/plain": [
       "[['Australian Capital Territory',\n",
       "  'blue/white',\n",
       "  'Yaa·nna',\n",
       "  'ACT · CELEBRATION OF A CENTURY 2013',\n",
       "  'YIL·00A',\n",
       "  'Slogan screenprinted on plate'],\n",
       " ['New South Wales',\n",
       "  'black/yellow',\n",
       "  'aa·nn·aa',\n",
       "  'NEW SOUTH WALES',\n",
       "  'BX·99·HI',\n",
       "  'No slogan on current series'],\n",
       " ['New South Wales',\n",
       "  'black/white',\n",
       "  'aaa·nna',\n",
       "  'NSW',\n",
       "  'CPX·12A',\n",
       "  'Optional white slimline series'],\n",
       " ['Northern Territory',\n",
       "  'ochre/white',\n",
       "  'Ca·nn·aa',\n",
       "  'NT · OUTBACK AUSTRALIA',\n",
       "  'CB·06·ZZ',\n",
       "  'New series began in June 2011'],\n",
       " ['Queensland',\n",
       "  'maroon/white',\n",
       "  'nnn·aaa',\n",
       "  'QUEENSLAND · SUNSHINE STATE',\n",
       "  '999·TLG',\n",
       "  'Slogan embossed on plate'],\n",
       " ['South Australia',\n",
       "  'black/white',\n",
       "  'Snnn·aaa',\n",
       "  'SOUTH AUSTRALIA',\n",
       "  'S000·AZD',\n",
       "  'No slogan on current series'],\n",
       " ['Victoria',\n",
       "  'blue/white',\n",
       "  'aaa·nnn',\n",
       "  'VICTORIA - THE PLACE TO BE',\n",
       "  'ZZZ·562',\n",
       "  'Current series will be exhausted this year']]"
      ]
     },
     "execution_count": 27,
     "metadata": {},
     "output_type": "execute_result"
    }
   ],
   "source": [
    "tablesobj.loc[0]['rows']"
   ]
  },
  {
   "cell_type": "code",
   "execution_count": null,
   "id": "ee8037b4-a909-4e53-ab02-a7e3d3673970",
   "metadata": {},
   "outputs": [],
   "source": []
  }
 ],
 "metadata": {
  "kernelspec": {
   "display_name": "Python 3 (ipykernel)",
   "language": "python",
   "name": "python3"
  },
  "language_info": {
   "codemirror_mode": {
    "name": "ipython",
    "version": 3
   },
   "file_extension": ".py",
   "mimetype": "text/x-python",
   "name": "python",
   "nbconvert_exporter": "python",
   "pygments_lexer": "ipython3",
   "version": "3.9.13"
  }
 },
 "nbformat": 4,
 "nbformat_minor": 5
}
