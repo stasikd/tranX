{
 "cells": [
  {
   "cell_type": "code",
   "execution_count": 1,
   "id": "2a1b01a9-7bad-4f19-a722-79f60e3f655b",
   "metadata": {},
   "outputs": [],
   "source": [
    "# coding=utf-8\n",
    "from __future__ import print_function\n",
    "\n",
    "import json\n",
    "import os\n",
    "import pickle\n",
    "import sys\n",
    "from itertools import chain\n",
    "\n",
    "import numpy as np\n",
    "\n",
    "from asdl.asdl import ASDLGrammar\n",
    "from asdl.hypothesis import Hypothesis\n",
    "from datasets.wikisql.lib.common import detokenize\n",
    "from datasets.wikisql.lib.dbengine import DBEngine\n",
    "from datasets.wikisql.lib.query import Query\n",
    "from asdl.lang.sql.sql_transition_system import SqlTransitionSystem, sql_query_to_asdl_ast, asdl_ast_to_sql_query\n",
    "from datasets.wikisql.utils import my_detokenize, find_sub_sequence\n",
    "from asdl.transition_system import GenTokenAction\n",
    "from components.action_info import ActionInfo\n",
    "from components.vocab import VocabEntry, Vocab\n",
    "from model.wikisql.dataset import WikiSqlExample, WikiSqlTable, TableColumn"
   ]
  },
  {
   "cell_type": "code",
   "execution_count": 2,
   "id": "aa147724-471d-40ee-b3b6-c6b2e1e81e10",
   "metadata": {},
   "outputs": [],
   "source": [
    "from datasets.wikisql.dataset import load_dataset\n",
    "from datasets.wikisql.dataset import get_action_infos"
   ]
  },
  {
   "cell_type": "code",
   "execution_count": 3,
   "id": "97029c2d-684a-40f4-a0bb-177dc03df6b6",
   "metadata": {},
   "outputs": [],
   "source": [
    "engine = DBEngine('tranx.0.2.0/data/wikisql/train.db')\n",
    "data_file = 'dsl_parser/my_wikisql/wikisql_train.json'\n",
    "grammar = ASDLGrammar.from_text(open('asdl/lang/sql/sql_asdl.txt').read())\n",
    "\n",
    "transition_system = SqlTransitionSystem(grammar)"
   ]
  },
  {
   "cell_type": "code",
   "execution_count": 4,
   "id": "79b2542a-3e4c-4855-8d8e-1b1a3e1c7b33",
   "metadata": {
    "scrolled": true,
    "tags": []
   },
   "outputs": [
    {
     "data": {
      "text/plain": [
       "SELECT MIN col1 FROM table"
      ]
     },
     "execution_count": 4,
     "metadata": {},
     "output_type": "execute_result"
    }
   ],
   "source": [
    "query = Query('1', 2)\n",
    "query"
   ]
  },
  {
   "cell_type": "code",
   "execution_count": 5,
   "id": "c8cf80c9-a30c-4af5-8a47-6228577c62d5",
   "metadata": {},
   "outputs": [
    {
     "data": {
      "text/plain": [
       "{'sel': '1', 'agg': 2, 'conds': []}"
      ]
     },
     "execution_count": 5,
     "metadata": {},
     "output_type": "execute_result"
    }
   ],
   "source": [
    "query.to_dict()"
   ]
  },
  {
   "cell_type": "code",
   "execution_count": 6,
   "id": "d01c1dd9-e44d-4491-b4a2-e46472a716d0",
   "metadata": {},
   "outputs": [],
   "source": [
    "asdl_ast = sql_query_to_asdl_ast(query, grammar)\n",
    "asdl_ast.sanity_check()\n",
    "actions = transition_system.get_actions(asdl_ast)"
   ]
  },
  {
   "cell_type": "code",
   "execution_count": 23,
   "id": "3206fe8d-2bd9-4b26-846c-b3a4e90b1319",
   "metadata": {},
   "outputs": [
    {
     "data": {
      "text/plain": [
       "<function list.count(value, /)>"
      ]
     },
     "execution_count": 23,
     "metadata": {},
     "output_type": "execute_result"
    }
   ],
   "source": [
    "actions.count"
   ]
  },
  {
   "cell_type": "code",
   "execution_count": 8,
   "id": "7c362724-5f8f-40b2-84cf-128350461169",
   "metadata": {},
   "outputs": [],
   "source": [
    "query_reconstr = asdl_ast_to_sql_query(asdl_ast)"
   ]
  },
  {
   "cell_type": "code",
   "execution_count": 9,
   "id": "2488e6e2-047a-4802-9776-ae7aba5874c6",
   "metadata": {},
   "outputs": [
    {
     "data": {
      "text/plain": [
       "SELECT MIN col1 FROM table"
      ]
     },
     "execution_count": 9,
     "metadata": {},
     "output_type": "execute_result"
    }
   ],
   "source": [
    "query_reconstr"
   ]
  },
  {
   "cell_type": "code",
   "execution_count": 35,
   "id": "3b3a4c12-1459-460c-b1fe-1c72feccf05f",
   "metadata": {
    "tags": []
   },
   "outputs": [],
   "source": [
    "q = {\"sel\": \"Current series\", \"conds\": [[\"Notes\", 0, \"New series began in June 2011\"]], \"agg\": 0}\n",
    "\n",
    "qu = Query.from_dict(q)"
   ]
  },
  {
   "cell_type": "code",
   "execution_count": 36,
   "id": "f79284ac-32c5-4869-9ae9-b43f834f9eda",
   "metadata": {},
   "outputs": [
    {
     "data": {
      "text/plain": [
       "SELECT  colCurrent series FROM table WHERE colNotes = New series began in June 2011"
      ]
     },
     "execution_count": 36,
     "metadata": {},
     "output_type": "execute_result"
    }
   ],
   "source": [
    "qu"
   ]
  },
  {
   "cell_type": "code",
   "execution_count": 16,
   "id": "ce857785-df06-4672-9c29-84ec3cecd598",
   "metadata": {},
   "outputs": [],
   "source": [
    "import pandas as pd\n",
    "data = pd.read_csv('my_wikisql/train.csv')"
   ]
  },
  {
   "cell_type": "code",
   "execution_count": 18,
   "id": "9384158b-dfea-4ee4-8c21-c5dfb4a87dde",
   "metadata": {},
   "outputs": [
    {
     "data": {
      "text/html": [
       "<div>\n",
       "<style scoped>\n",
       "    .dataframe tbody tr th:only-of-type {\n",
       "        vertical-align: middle;\n",
       "    }\n",
       "\n",
       "    .dataframe tbody tr th {\n",
       "        vertical-align: top;\n",
       "    }\n",
       "\n",
       "    .dataframe thead th {\n",
       "        text-align: right;\n",
       "    }\n",
       "</style>\n",
       "<table border=\"1\" class=\"dataframe\">\n",
       "  <thead>\n",
       "    <tr style=\"text-align: right;\">\n",
       "      <th></th>\n",
       "      <th>question</th>\n",
       "      <th>sql</th>\n",
       "    </tr>\n",
       "  </thead>\n",
       "  <tbody>\n",
       "    <tr>\n",
       "      <th>0</th>\n",
       "      <td>Tell me what the notes are for South Australia</td>\n",
       "      <td>SELECT Notes FROM table WHERE Current slogan =...</td>\n",
       "    </tr>\n",
       "    <tr>\n",
       "      <th>1</th>\n",
       "      <td>What is the current series where the new serie...</td>\n",
       "      <td>SELECT Current series FROM table WHERE Notes =...</td>\n",
       "    </tr>\n",
       "    <tr>\n",
       "      <th>2</th>\n",
       "      <td>What is the format for South Australia?</td>\n",
       "      <td>SELECT Format FROM table WHERE State/territory...</td>\n",
       "    </tr>\n",
       "    <tr>\n",
       "      <th>3</th>\n",
       "      <td>Name the background colour for the Australian ...</td>\n",
       "      <td>SELECT Text/background colour FROM table WHERE...</td>\n",
       "    </tr>\n",
       "    <tr>\n",
       "      <th>4</th>\n",
       "      <td>how many times is the fuel propulsion is cng?</td>\n",
       "      <td>SELECT COUNT Fleet Series (Quantity) FROM tabl...</td>\n",
       "    </tr>\n",
       "  </tbody>\n",
       "</table>\n",
       "</div>"
      ],
      "text/plain": [
       "                                            question  \\\n",
       "0    Tell me what the notes are for South Australia    \n",
       "1  What is the current series where the new serie...   \n",
       "2            What is the format for South Australia?   \n",
       "3  Name the background colour for the Australian ...   \n",
       "4      how many times is the fuel propulsion is cng?   \n",
       "\n",
       "                                                 sql  \n",
       "0  SELECT Notes FROM table WHERE Current slogan =...  \n",
       "1  SELECT Current series FROM table WHERE Notes =...  \n",
       "2  SELECT Format FROM table WHERE State/territory...  \n",
       "3  SELECT Text/background colour FROM table WHERE...  \n",
       "4  SELECT COUNT Fleet Series (Quantity) FROM tabl...  "
      ]
     },
     "execution_count": 18,
     "metadata": {},
     "output_type": "execute_result"
    }
   ],
   "source": [
    "data.head()"
   ]
  },
  {
   "cell_type": "code",
   "execution_count": 27,
   "id": "af26e719-2264-44b8-9b7f-f2c93ace173d",
   "metadata": {},
   "outputs": [
    {
     "data": {
      "text/plain": [
       "'SELECT Current series FROM table WHERE Notes = New series began in June 2011'"
      ]
     },
     "execution_count": 27,
     "metadata": {},
     "output_type": "execute_result"
    }
   ],
   "source": [
    "qq = data.loc[1]['sql']\n",
    "qq"
   ]
  },
  {
   "cell_type": "code",
   "execution_count": null,
   "id": "5612d420-2895-4fa7-9371-dec97c1d5afc",
   "metadata": {},
   "outputs": [],
   "source": [
    "qq."
   ]
  },
  {
   "cell_type": "code",
   "execution_count": null,
   "id": "ecb88d53-60c0-4e9d-9e3a-263ce9a2e14d",
   "metadata": {},
   "outputs": [],
   "source": []
  }
 ],
 "metadata": {
  "kernelspec": {
   "display_name": "Python 3 (ipykernel)",
   "language": "python",
   "name": "python3"
  },
  "language_info": {
   "codemirror_mode": {
    "name": "ipython",
    "version": 3
   },
   "file_extension": ".py",
   "mimetype": "text/x-python",
   "name": "python",
   "nbconvert_exporter": "python",
   "pygments_lexer": "ipython3",
   "version": "3.9.13"
  }
 },
 "nbformat": 4,
 "nbformat_minor": 5
}
