{
 "cells": [
  {
   "cell_type": "code",
   "execution_count": 1,
   "id": "2a1b01a9-7bad-4f19-a722-79f60e3f655b",
   "metadata": {},
   "outputs": [],
   "source": [
    "# coding=utf-8\n",
    "from __future__ import print_function\n",
    "\n",
    "import json\n",
    "import os\n",
    "import pickle\n",
    "import sys\n",
    "from itertools import chain\n",
    "\n",
    "import numpy as np\n",
    "\n",
    "from asdl.asdl import ASDLGrammar\n",
    "from asdl.hypothesis import Hypothesis\n",
    "from datasets.wikisql.lib.common import detokenize\n",
    "from datasets.wikisql.lib.dbengine import DBEngine\n",
    "from datasets.wikisql.lib.query import Query\n",
    "from asdl.lang.sql.sql_transition_system import SqlTransitionSystem, sql_query_to_asdl_ast, asdl_ast_to_sql_query\n",
    "from datasets.wikisql.utils import my_detokenize, find_sub_sequence\n",
    "from asdl.transition_system import GenTokenAction\n",
    "from components.action_info import ActionInfo\n",
    "from components.vocab import VocabEntry, Vocab\n",
    "from model.wikisql.dataset import WikiSqlExample, WikiSqlTable, TableColumn"
   ]
  },
  {
   "cell_type": "code",
   "execution_count": 2,
   "id": "aa147724-471d-40ee-b3b6-c6b2e1e81e10",
   "metadata": {},
   "outputs": [],
   "source": [
    "from datasets.wikisql.dataset import load_dataset\n",
    "from datasets.wikisql.dataset import get_action_infos"
   ]
  },
  {
   "cell_type": "code",
   "execution_count": 3,
   "id": "97029c2d-684a-40f4-a0bb-177dc03df6b6",
   "metadata": {},
   "outputs": [],
   "source": [
    "engine = DBEngine('tranx.0.2.0/data/wikisql/train.db')\n",
    "data_file = 'dsl_parser/my_wikisql/wikisql_train.json'\n",
    "grammar = ASDLGrammar.from_text(open('asdl/lang/sql/sql_asdl.txt').read())\n",
    "\n",
    "transition_system = SqlTransitionSystem(grammar)"
   ]
  },
  {
   "cell_type": "code",
   "execution_count": 4,
   "id": "79b2542a-3e4c-4855-8d8e-1b1a3e1c7b33",
   "metadata": {},
   "outputs": [
    {
     "data": {
      "text/plain": [
       "SELECT AVG col1 FROM table"
      ]
     },
     "execution_count": 4,
     "metadata": {},
     "output_type": "execute_result"
    }
   ],
   "source": [
    "query = Query(1, 5)\n",
    "query"
   ]
  },
  {
   "cell_type": "code",
   "execution_count": 5,
   "id": "c8cf80c9-a30c-4af5-8a47-6228577c62d5",
   "metadata": {},
   "outputs": [
    {
     "data": {
      "text/plain": [
       "{'sel': 1, 'agg': 5, 'conds': []}"
      ]
     },
     "execution_count": 5,
     "metadata": {},
     "output_type": "execute_result"
    }
   ],
   "source": [
    "query.to_dict()"
   ]
  },
  {
   "cell_type": "code",
   "execution_count": 6,
   "id": "d01c1dd9-e44d-4491-b4a2-e46472a716d0",
   "metadata": {},
   "outputs": [],
   "source": [
    "asdl_ast = sql_query_to_asdl_ast(query, grammar)\n",
    "asdl_ast.sanity_check()\n",
    "actions = transition_system.get_actions(asdl_ast)"
   ]
  },
  {
   "cell_type": "code",
   "execution_count": 7,
   "id": "3206fe8d-2bd9-4b26-846c-b3a4e90b1319",
   "metadata": {},
   "outputs": [
    {
     "data": {
      "text/plain": [
       "[ApplyRule[stmt -> Select(agg_op? agg, column_idx col_idx, cond_expr* conditions)],\n",
       " ApplyRule[agg_op -> Avg()],\n",
       " SelectColumnAction[id=1],\n",
       " Reduce]"
      ]
     },
     "execution_count": 7,
     "metadata": {},
     "output_type": "execute_result"
    }
   ],
   "source": [
    "actions"
   ]
  },
  {
   "cell_type": "code",
   "execution_count": 8,
   "id": "7c362724-5f8f-40b2-84cf-128350461169",
   "metadata": {},
   "outputs": [],
   "source": [
    "query_reconstr = asdl_ast_to_sql_query(asdl_ast)"
   ]
  },
  {
   "cell_type": "code",
   "execution_count": 9,
   "id": "2488e6e2-047a-4802-9776-ae7aba5874c6",
   "metadata": {},
   "outputs": [
    {
     "data": {
      "text/plain": [
       "SELECT AVG col1 FROM table"
      ]
     },
     "execution_count": 9,
     "metadata": {},
     "output_type": "execute_result"
    }
   ],
   "source": [
    "query_reconstr"
   ]
  },
  {
   "cell_type": "code",
   "execution_count": null,
   "id": "2972cfb6-9d5c-4c5b-acb1-6a756b00ec7b",
   "metadata": {},
   "outputs": [],
   "source": []
  }
 ],
 "metadata": {
  "kernelspec": {
   "display_name": "Python 3 (ipykernel)",
   "language": "python",
   "name": "python3"
  },
  "language_info": {
   "codemirror_mode": {
    "name": "ipython",
    "version": 3
   },
   "file_extension": ".py",
   "mimetype": "text/x-python",
   "name": "python",
   "nbconvert_exporter": "python",
   "pygments_lexer": "ipython3",
   "version": "3.9.13"
  }
 },
 "nbformat": 4,
 "nbformat_minor": 5
}
