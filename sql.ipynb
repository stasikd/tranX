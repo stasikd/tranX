{
 "cells": [
  {
   "cell_type": "code",
   "execution_count": 1,
   "id": "2a1b01a9-7bad-4f19-a722-79f60e3f655b",
   "metadata": {},
   "outputs": [],
   "source": [
    "# coding=utf-8\n",
    "from __future__ import print_function\n",
    "\n",
    "import json\n",
    "import os\n",
    "import pickle\n",
    "import sys\n",
    "from itertools import chain\n",
    "\n",
    "import numpy as np\n",
    "\n",
    "from asdl.asdl import ASDLGrammar\n",
    "from asdl.hypothesis import Hypothesis\n",
    "from datasets.wikisql.lib.common import detokenize\n",
    "from datasets.wikisql.lib.dbengine import DBEngine\n",
    "from datasets.wikisql.lib.query import Query\n",
    "from asdl.lang.sql.sql_transition_system import SqlTransitionSystem, sql_query_to_asdl_ast, asdl_ast_to_sql_query\n",
    "from datasets.wikisql.utils import my_detokenize, find_sub_sequence\n",
    "from asdl.transition_system import GenTokenAction\n",
    "from components.action_info import ActionInfo\n",
    "from components.vocab import VocabEntry, Vocab\n",
    "from model.wikisql.dataset import WikiSqlExample, WikiSqlTable, TableColumn"
   ]
  },
  {
   "cell_type": "code",
   "execution_count": 2,
   "id": "aa147724-471d-40ee-b3b6-c6b2e1e81e10",
   "metadata": {},
   "outputs": [],
   "source": [
    "from datasets.wikisql.dataset import load_dataset\n",
    "from datasets.wikisql.dataset import get_action_infos"
   ]
  },
  {
   "cell_type": "code",
   "execution_count": 3,
   "id": "97029c2d-684a-40f4-a0bb-177dc03df6b6",
   "metadata": {},
   "outputs": [],
   "source": [
    "engine = DBEngine('tranx.0.2.0/data/wikisql/train.db')\n",
    "data_file = 'dsl_parser/my_wikisql/wikisql_train.json'\n",
    "grammar = ASDLGrammar.from_text(open('asdl/lang/sql/sql_asdl.txt').read())\n",
    "\n",
    "transition_system = SqlTransitionSystem(grammar)"
   ]
  },
  {
   "cell_type": "code",
   "execution_count": 4,
   "id": "9f64f1a7-96e6-4205-ad1e-cc40b5fcb8e2",
   "metadata": {},
   "outputs": [],
   "source": [
    "parser = SqlTransitionSystem(grammar)"
   ]
  },
  {
   "cell_type": "code",
   "execution_count": 5,
   "id": "79b2542a-3e4c-4855-8d8e-1b1a3e1c7b33",
   "metadata": {
    "scrolled": true,
    "tags": []
   },
   "outputs": [
    {
     "data": {
      "text/plain": [
       "SELECT MIN col1 FROM table"
      ]
     },
     "execution_count": 5,
     "metadata": {},
     "output_type": "execute_result"
    }
   ],
   "source": [
    "query = Query('1', 2)\n",
    "query"
   ]
  },
  {
   "cell_type": "code",
   "execution_count": 6,
   "id": "c8cf80c9-a30c-4af5-8a47-6228577c62d5",
   "metadata": {},
   "outputs": [
    {
     "data": {
      "text/plain": [
       "{'sel': '1', 'agg': 2, 'conds': []}"
      ]
     },
     "execution_count": 6,
     "metadata": {},
     "output_type": "execute_result"
    }
   ],
   "source": [
    "query.to_dict()"
   ]
  },
  {
   "cell_type": "code",
   "execution_count": 7,
   "id": "d01c1dd9-e44d-4491-b4a2-e46472a716d0",
   "metadata": {},
   "outputs": [],
   "source": [
    "asdl_ast = sql_query_to_asdl_ast(query, grammar)\n",
    "asdl_ast.sanity_check()\n",
    "actions = transition_system.get_actions(asdl_ast)"
   ]
  },
  {
   "cell_type": "code",
   "execution_count": 8,
   "id": "e3f00130-ce5a-441e-8087-360d481ad31d",
   "metadata": {},
   "outputs": [
    {
     "data": {
      "text/plain": [
       "[ApplyRule[stmt -> Select(agg_op? agg, column_idx col_idx, cond_expr* conditions)],\n",
       " ApplyRule[agg_op -> Min()],\n",
       " SelectColumnAction[id=1],\n",
       " Reduce]"
      ]
     },
     "execution_count": 8,
     "metadata": {},
     "output_type": "execute_result"
    }
   ],
   "source": [
    "actions"
   ]
  },
  {
   "cell_type": "code",
   "execution_count": 9,
   "id": "3206fe8d-2bd9-4b26-846c-b3a4e90b1319",
   "metadata": {},
   "outputs": [
    {
     "data": {
      "text/plain": [
       "<function list.count(value, /)>"
      ]
     },
     "execution_count": 9,
     "metadata": {},
     "output_type": "execute_result"
    }
   ],
   "source": [
    "actions.count"
   ]
  },
  {
   "cell_type": "code",
   "execution_count": 10,
   "id": "7c362724-5f8f-40b2-84cf-128350461169",
   "metadata": {},
   "outputs": [],
   "source": [
    "query_reconstr = asdl_ast_to_sql_query(asdl_ast)"
   ]
  },
  {
   "cell_type": "code",
   "execution_count": 11,
   "id": "2488e6e2-047a-4802-9776-ae7aba5874c6",
   "metadata": {},
   "outputs": [
    {
     "data": {
      "text/plain": [
       "SELECT MIN col1 FROM table"
      ]
     },
     "execution_count": 11,
     "metadata": {},
     "output_type": "execute_result"
    }
   ],
   "source": [
    "query_reconstr"
   ]
  },
  {
   "cell_type": "code",
   "execution_count": 40,
   "id": "3b3a4c12-1459-460c-b1fe-1c72feccf05f",
   "metadata": {
    "tags": []
   },
   "outputs": [],
   "source": [
    "q = {\"sel\": 1, \"conds\": [[1, 0, \"New series began in June 2011\"], [2, 2, \"Vse horosho\"]], \"agg\": 0}\n",
    "\n",
    "qu = Query.from_dict(q)"
   ]
  },
  {
   "cell_type": "code",
   "execution_count": 41,
   "id": "7fb9d315-9367-46ab-80af-608f06938803",
   "metadata": {},
   "outputs": [
    {
     "data": {
      "text/plain": [
       "SELECT  col1 FROM table WHERE col1 = New series began in June 2011 AND col2 < Vse horosho"
      ]
     },
     "execution_count": 41,
     "metadata": {},
     "output_type": "execute_result"
    }
   ],
   "source": [
    "qu"
   ]
  },
  {
   "cell_type": "code",
   "execution_count": 42,
   "id": "45cbe213-5bd8-495e-aa5a-a3df210b4aa2",
   "metadata": {},
   "outputs": [
    {
     "data": {
      "text/plain": [
       "{'sel': 1,\n",
       " 'agg': 0,\n",
       " 'conds': [[1, 0, 'New series began in June 2011'], [2, 2, 'Vse horosho']]}"
      ]
     },
     "execution_count": 42,
     "metadata": {},
     "output_type": "execute_result"
    }
   ],
   "source": [
    "qu.to_dict()"
   ]
  },
  {
   "cell_type": "code",
   "execution_count": 43,
   "id": "b919cf5e-6099-47f0-86ea-5b683a2445ae",
   "metadata": {},
   "outputs": [
    {
     "data": {
      "text/plain": [
       "'SELECT col1 FROM table WHERE col1 = New series began in June 2011 AND col2 < Vse horosho'"
      ]
     },
     "execution_count": 43,
     "metadata": {},
     "output_type": "execute_result"
    }
   ],
   "source": [
    "qu.to_query('text')"
   ]
  },
  {
   "cell_type": "code",
   "execution_count": null,
   "id": "7f9134c3-6bec-4ab9-aeb5-df434cf97cdb",
   "metadata": {},
   "outputs": [],
   "source": []
  },
  {
   "cell_type": "code",
   "execution_count": null,
   "id": "2f23f756-a9b1-4ede-b323-a43851d0d059",
   "metadata": {},
   "outputs": [],
   "source": []
  },
  {
   "cell_type": "code",
   "execution_count": null,
   "id": "10068718-d02b-4532-b180-094132338641",
   "metadata": {},
   "outputs": [],
   "source": []
  },
  {
   "cell_type": "code",
   "execution_count": 54,
   "id": "e8631f6f-e8b3-4c2b-9223-c07198c08035",
   "metadata": {},
   "outputs": [],
   "source": [
    "a = qu.to_query('text')"
   ]
  },
  {
   "cell_type": "code",
   "execution_count": null,
   "id": "ca88306a-c0ca-41a4-ab54-e05dab09ef5e",
   "metadata": {},
   "outputs": [],
   "source": []
  },
  {
   "cell_type": "code",
   "execution_count": 27,
   "id": "17b02cd0-d1bf-4ab5-b260-85305b2f4c9a",
   "metadata": {},
   "outputs": [],
   "source": [
    "cmp_op_idx2op_symbol = {0: '=', 1: '>', 2: '<'}\n",
    "\n",
    "cmp_op_idx2op_name = {0: 'Equal', 1: 'GreaterThan', 2: 'LessThan'}\n",
    "ctr_name2cmp_op_idx = {v: k for k, v in cmp_op_idx2op_name.items()}\n",
    "agg_idx2op_name = {1: 'Max', 2: 'Min', 3: 'Count', 4: 'Sum', 5: 'Avg'}\n",
    "ctr_name2agg_idx = {v: k for k, v in agg_idx2op_name.items()}"
   ]
  },
  {
   "cell_type": "code",
   "execution_count": 55,
   "id": "1e558485-cb8e-4014-a3da-13a8cff835cf",
   "metadata": {},
   "outputs": [],
   "source": [
    "asdl_ast = sql_query_to_asdl_ast(qu, grammar)\n",
    "asdl_ast.sanity_check()\n",
    "actions = transition_system.get_actions(asdl_ast)"
   ]
  },
  {
   "cell_type": "code",
   "execution_count": 56,
   "id": "0e20f8bc-fb2b-4550-abb6-dd225954cc33",
   "metadata": {},
   "outputs": [],
   "source": [
    "query_reconstr = asdl_ast_to_sql_query(asdl_ast)"
   ]
  },
  {
   "cell_type": "code",
   "execution_count": 57,
   "id": "025cb616-147c-4b4f-8e4f-5c0685fdd712",
   "metadata": {},
   "outputs": [
    {
     "data": {
      "text/plain": [
       "'SELECT col1 FROM table WHERE col3 > New series began in June 2011 AND col1 = Smth in 4'"
      ]
     },
     "execution_count": 57,
     "metadata": {},
     "output_type": "execute_result"
    }
   ],
   "source": [
    "query_reconstr.to_query('text')"
   ]
  },
  {
   "cell_type": "code",
   "execution_count": 17,
   "id": "b0fa340d-8729-4ac9-a94e-ba3c765fa9d9",
   "metadata": {},
   "outputs": [
    {
     "data": {
      "text/plain": [
       "[ApplyRule[stmt -> Select(agg_op? agg, column_idx col_idx, cond_expr* conditions)],\n",
       " Reduce,\n",
       " SelectColumnAction[id=1],\n",
       " ApplyRule[cond_expr -> Condition(cmp_op op, column_idx col_idx, string value)],\n",
       " ApplyRule[cmp_op -> Equal()],\n",
       " SelectColumnAction[id=3],\n",
       " GenToken[New],\n",
       " GenToken[series],\n",
       " GenToken[began],\n",
       " GenToken[in],\n",
       " GenToken[June],\n",
       " GenToken[2011],\n",
       " GenToken[</primitive>],\n",
       " Reduce]"
      ]
     },
     "execution_count": 17,
     "metadata": {},
     "output_type": "execute_result"
    }
   ],
   "source": [
    "actions"
   ]
  },
  {
   "cell_type": "code",
   "execution_count": 18,
   "id": "ce857785-df06-4672-9c29-84ec3cecd598",
   "metadata": {},
   "outputs": [],
   "source": [
    "import pandas as pd\n",
    "data = pd.read_csv('my_wikisql/train.csv')"
   ]
  },
  {
   "cell_type": "code",
   "execution_count": 19,
   "id": "9384158b-dfea-4ee4-8c21-c5dfb4a87dde",
   "metadata": {},
   "outputs": [
    {
     "data": {
      "text/html": [
       "<div>\n",
       "<style scoped>\n",
       "    .dataframe tbody tr th:only-of-type {\n",
       "        vertical-align: middle;\n",
       "    }\n",
       "\n",
       "    .dataframe tbody tr th {\n",
       "        vertical-align: top;\n",
       "    }\n",
       "\n",
       "    .dataframe thead th {\n",
       "        text-align: right;\n",
       "    }\n",
       "</style>\n",
       "<table border=\"1\" class=\"dataframe\">\n",
       "  <thead>\n",
       "    <tr style=\"text-align: right;\">\n",
       "      <th></th>\n",
       "      <th>question</th>\n",
       "      <th>sql</th>\n",
       "    </tr>\n",
       "  </thead>\n",
       "  <tbody>\n",
       "    <tr>\n",
       "      <th>0</th>\n",
       "      <td>Tell me what the notes are for South Australia</td>\n",
       "      <td>SELECT Notes FROM table WHERE Current slogan =...</td>\n",
       "    </tr>\n",
       "    <tr>\n",
       "      <th>1</th>\n",
       "      <td>What is the current series where the new serie...</td>\n",
       "      <td>SELECT Current series FROM table WHERE Notes =...</td>\n",
       "    </tr>\n",
       "    <tr>\n",
       "      <th>2</th>\n",
       "      <td>What is the format for South Australia?</td>\n",
       "      <td>SELECT Format FROM table WHERE State/territory...</td>\n",
       "    </tr>\n",
       "    <tr>\n",
       "      <th>3</th>\n",
       "      <td>Name the background colour for the Australian ...</td>\n",
       "      <td>SELECT Text/background colour FROM table WHERE...</td>\n",
       "    </tr>\n",
       "    <tr>\n",
       "      <th>4</th>\n",
       "      <td>how many times is the fuel propulsion is cng?</td>\n",
       "      <td>SELECT COUNT Fleet Series (Quantity) FROM tabl...</td>\n",
       "    </tr>\n",
       "  </tbody>\n",
       "</table>\n",
       "</div>"
      ],
      "text/plain": [
       "                                            question  \\\n",
       "0    Tell me what the notes are for South Australia    \n",
       "1  What is the current series where the new serie...   \n",
       "2            What is the format for South Australia?   \n",
       "3  Name the background colour for the Australian ...   \n",
       "4      how many times is the fuel propulsion is cng?   \n",
       "\n",
       "                                                 sql  \n",
       "0  SELECT Notes FROM table WHERE Current slogan =...  \n",
       "1  SELECT Current series FROM table WHERE Notes =...  \n",
       "2  SELECT Format FROM table WHERE State/territory...  \n",
       "3  SELECT Text/background colour FROM table WHERE...  \n",
       "4  SELECT COUNT Fleet Series (Quantity) FROM tabl...  "
      ]
     },
     "execution_count": 19,
     "metadata": {},
     "output_type": "execute_result"
    }
   ],
   "source": [
    "data.head()"
   ]
  },
  {
   "cell_type": "code",
   "execution_count": 20,
   "id": "3fd72bd7-d665-4811-957d-4a3217ee7f37",
   "metadata": {},
   "outputs": [],
   "source": [
    "cmp_op_idx2op_name = {0: 'Equal', 1: 'GreaterThan', 2: 'LessThan'}\n",
    "ctr_name2cmp_op_idx = {v: k for k, v in cmp_op_idx2op_name.items()}\n",
    "agg_idx2op_name = {1: 'Max', 2: 'Min', 3: 'Count', 4: 'Sum', 5: 'Avg'}\n",
    "ctr_name2agg_idx = {v: k for k, v in agg_idx2op_name.items()}"
   ]
  },
  {
   "cell_type": "code",
   "execution_count": 21,
   "id": "ed1353b4-cbd1-434a-974d-0504c1b1c8ed",
   "metadata": {},
   "outputs": [
    {
     "data": {
      "text/plain": [
       "{'Equal': 0, 'GreaterThan': 1, 'LessThan': 2}"
      ]
     },
     "execution_count": 21,
     "metadata": {},
     "output_type": "execute_result"
    }
   ],
   "source": [
    "ctr_name2cmp_op_idx"
   ]
  },
  {
   "cell_type": "code",
   "execution_count": 22,
   "id": "35ee76ba-482a-49c9-b394-71754f57e062",
   "metadata": {},
   "outputs": [
    {
     "data": {
      "text/plain": [
       "'SELECT COUNT Fleet Series (Quantity) FROM table WHERE Fuel Propulsion = CNG'"
      ]
     },
     "execution_count": 22,
     "metadata": {},
     "output_type": "execute_result"
    }
   ],
   "source": [
    "data.loc[4]['sql']"
   ]
  },
  {
   "cell_type": "code",
   "execution_count": 23,
   "id": "9a682aa7-64b1-4736-91c5-88f06f5b1991",
   "metadata": {},
   "outputs": [
    {
     "data": {
      "text/plain": [
       "55932"
      ]
     },
     "execution_count": 23,
     "metadata": {},
     "output_type": "execute_result"
    }
   ],
   "source": [
    "a = []\n",
    "for sql in data['sql']:\n",
    "    if sql.count('WHERE') != 0:\n",
    "        a.append(sql)\n",
    "\n",
    "len(a)"
   ]
  },
  {
   "cell_type": "code",
   "execution_count": null,
   "id": "c2965eed-17f1-46d7-ae26-9d1c1ed151cd",
   "metadata": {},
   "outputs": [],
   "source": []
  },
  {
   "cell_type": "code",
   "execution_count": null,
   "id": "af26e719-2264-44b8-9b7f-f2c93ace173d",
   "metadata": {},
   "outputs": [],
   "source": [
    "qq = data.loc[0]['sql']\n",
    "qq"
   ]
  },
  {
   "cell_type": "code",
   "execution_count": null,
   "id": "5612d420-2895-4fa7-9371-dec97c1d5afc",
   "metadata": {},
   "outputs": [],
   "source": []
  }
 ],
 "metadata": {
  "kernelspec": {
   "display_name": "Python 3 (ipykernel)",
   "language": "python",
   "name": "python3"
  },
  "language_info": {
   "codemirror_mode": {
    "name": "ipython",
    "version": 3
   },
   "file_extension": ".py",
   "mimetype": "text/x-python",
   "name": "python",
   "nbconvert_exporter": "python",
   "pygments_lexer": "ipython3",
   "version": "3.9.13"
  }
 },
 "nbformat": 4,
 "nbformat_minor": 5
}
